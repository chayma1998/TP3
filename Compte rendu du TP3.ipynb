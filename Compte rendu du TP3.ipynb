{
 "cells": [
  {
   "cell_type": "markdown",
   "id": "0d783487",
   "metadata": {},
   "source": [
    "# Compte rendu du TP3\n",
    "---------\n",
    "## Intégration Numérique\n",
    "---------"
   ]
  },
  {
   "cell_type": "code",
   "execution_count": 3,
   "id": "830b53ca",
   "metadata": {},
   "outputs": [],
   "source": [
    "class RectangleG ( object ) :\n",
    "    \n",
    "    def __init__( self , a , b , n , f ) :\n",
    "        \n",
    "        self.a = a\n",
    "        self.b = b\n",
    "        self.x = np.linspace ( a , b , n+1)\n",
    "        self.f = f\n",
    "        self.n = n\n",
    "    def integrate ( self , f ) :\n",
    "        \n",
    "        x= self.x\n",
    "        y=f ( x )\n",
    "        h = float ( x [ 1 ] - x [ 0 ] )\n",
    "        s = sum( y[0 : -1])\n",
    "        return h * s\n",
    "    def Graph ( self , f , resolution =1001) :\n",
    "        \n",
    "        xl = self.x\n",
    "        yl = f ( xl )\n",
    "        xlist_fine =np.linspace ( self.a , self.b , resolution )\n",
    "        for i in range ( self.n) :\n",
    "            \n",
    "            x_rect = [ xl [ i ] , xl [ i ] , xl [ i +1] , xl [ i +1] , xl [ i ] ] # abscisses des sommets\n",
    "            y_rect = [0 , yl [ i ] , yl [ i ] , 0 , 0 ] # ordonnees des sommets\n",
    "            plot ( x_rect , y_rect , \" r \" )\n",
    "            yflist_fine = f ( xlist_fine )\n",
    "            plt . plot ( xlist_fine , yflist_fine )\n",
    "#plt.plot(xl, yl,\"bo-\")\n",
    "            plt . xlabel ( ' x ' )\n",
    "            plt . ylabel ( ' f ( x ) ' )\n",
    "            plt . title (  'Methode des r e c t angl e s gauches'  )\n",
    "            text ( 0.5 * ( self.a+self.b ) , f ( self.b ) ,  '$I_n$ =%12.4 f'  % ( self.integrate ( f ) ) , fontsize =15)"
   ]
  },
  {
   "cell_type": "markdown",
   "id": "25c2f15f",
   "metadata": {},
   "source": [
    "# Méthode des rectangles\n",
    "Dans cette méthode, on calcule l’intégrale numérique en réalisant une somme de surfaces de rectangles. Le domaine d’intégration est découpé en intervalles et on fait comme si la fonction restait constante sur chaque intervalle.\n",
    "\n",
    "Sur chaque intervalle, on réalise ainsi l’approximation suivante :\n",
    "\n",
    "                                     integrale de a à b de f(x) ~= (b-a)*f(alpha)\n",
    "\n",
    "où alpha est une abscisse appartenant à l’intervalle limité par a et b.\n",
    "\n",
    "Nous nous limiterons ici aux cas où alpha = a ou b, ce qui signifie que pour chaque intervalle nous considérons comme constante la valeur prise par la fonction à l’extrémité gauche ou droite de l’intervalle."
   ]
  },
  {
   "cell_type": "code",
   "execution_count": 2,
   "id": "595651b4",
   "metadata": {},
   "outputs": [
    {
     "name": "stdout",
     "output_type": "stream",
     "text": [
      "integrale = -0.8708583208502408\n"
     ]
    },
    {
     "data": {
      "image/png": "[encoded data removed]",
      "text/plain": [
       "<Figure size 432x288 with 1 Axes>"
      ]
     },
     "metadata": {
      "needs_background": "light"
     },
     "output_type": "display_data"
    }
   ],
   "source": [
    "import numpy as np\n",
    "import matplotlib.pyplot as plt\n",
    "\n",
    "xmin = 0\n",
    "xmax = 3*np.pi/2\n",
    "nbx = 20\n",
    "nbi = nbx - 1 # nombre d'intervalles\n",
    "\n",
    "x = np.linspace(xmin, xmax, nbx)\n",
    "y = np.cos(x)\n",
    "plt.plot(x,y,\"bo-\")\n",
    "\n",
    "integrale = 0\n",
    "for i in range(nbi):\n",
    "    integrale = integrale + y[i]*(x[i+1]-x[i])\n",
    "    # dessin du rectangle\n",
    "    x_rect = [x[i], x[i], x[i+1], x[i+1], x[i]] # abscisses des sommets\n",
    "    y_rect = [0   , y[i], y[i]  , 0     , 0   ] # ordonnees des sommets\n",
    "    plt.plot(x_rect, y_rect,\"r\")\n",
    "print(\"integrale =\", integrale)\n",
    "\n",
    "plt.show()"
   ]
  },
  {
   "cell_type": "code",
   "execution_count": 7,
   "id": "a192179d",
   "metadata": {},
   "outputs": [],
   "source": [
    "def rectangles(f, a, b, N, side):\n",
    "   ....:     pas = (b-a) / N\n",
    "   ....:     x = a\n",
    "   ....:     somme = 0\n",
    "   ....:     for _ in range(N):\n",
    "   ....:         if side:\n",
    "   ....:             somme += f(x)\n",
    "   ....:         x += pas\n",
    "   ....:         if not side:\n",
    "   ....:             somme += f(x)\n",
    "   ....:     return somme / N\n",
    "   ....: "
   ]
  },
  {
   "cell_type": "code",
   "execution_count": 8,
   "id": "98346881",
   "metadata": {},
   "outputs": [
    {
     "data": {
      "text/plain": [
       "0.3283500000000004"
      ]
     },
     "execution_count": 8,
     "metadata": {},
     "output_type": "execute_result"
    }
   ],
   "source": [
    "rectangles(lambda x: x**2, 0, 1, 100, True)\n"
   ]
  },
  {
   "cell_type": "code",
   "execution_count": 9,
   "id": "a41efe3c",
   "metadata": {},
   "outputs": [
    {
     "data": {
      "text/plain": [
       "0.33835000000000043"
      ]
     },
     "execution_count": 9,
     "metadata": {},
     "output_type": "execute_result"
    }
   ],
   "source": [
    "rectangles(lambda x: x**2, 0, 1, 100, False)"
   ]
  },
  {
   "cell_type": "markdown",
   "id": "403b89ff",
   "metadata": {},
   "source": [
    "# Méthode des trapèzes\n",
    "Comme son nom l’indique, cette méthode d’intégration utilise une somme de surfaces de trapèzes.\n",
    "\n",
    "Sur chaque intervalle, on réalise alors l’approximation suivante :\n",
    "\n",
    "                                   integrale de a à b de f(x) dx ~= (b-a)/2*[f(a)+f(b)]"
   ]
  },
  {
   "cell_type": "code",
   "execution_count": 10,
   "id": "a0943015",
   "metadata": {},
   "outputs": [],
   "source": [
    "def trapezes(f, a, b, N):\n",
    "   ....:     pas = (b-a) / N\n",
    "   ....:     x = a\n",
    "   ....:     somme = (f(a) + f(b)) / 2\n",
    "   ....:     for _ in range(N-1):\n",
    "   ....:         x += pas\n",
    "   ....:         somme += f(x)\n",
    "   ....:     return somme / N"
   ]
  },
  {
   "cell_type": "code",
   "execution_count": 11,
   "id": "c80c4f69",
   "metadata": {},
   "outputs": [
    {
     "data": {
      "text/plain": [
       "0.3333500000000004"
      ]
     },
     "execution_count": 11,
     "metadata": {},
     "output_type": "execute_result"
    }
   ],
   "source": [
    "trapezes(lambda x: x**2, 0, 1, 100)"
   ]
  },
  {
   "cell_type": "markdown",
   "id": "f58e8740",
   "metadata": {},
   "source": [
    "# Méthode de Simpson\n",
    "Plutôt que d’approximer la courbe par un segment, comme dans les approches précédentes, on peut vouloir utiliser un arc de parabole, c’est-à-dire par une fonction polynomiale d’ordre deux. Ainsi, la méthode de Simpson1 propose d’approcher la fonction f sur l’intervalle [a,b] par une fonction f polynomiale d’ordre deux, qui prend nonseulementles mêmesvaleursque f auxabscisses a etb,comme la méthode du trapèze,mais également à l’abcisse m, correspondant au milieu de l’intervalle [a,b]"
   ]
  },
  {
   "cell_type": "markdown",
   "id": "cea99085",
   "metadata": {},
   "source": [
    "Pour obtenir la formule de Simpson, on va réaliser une interpolation avec un polynôme de degré 2. Un polynôme étant une fonction très facile à intégrer, on approche l’intégrale de la fonction f sur l’intervalle [a,b] , par l’intégrale du polynôme sur ce même intervalle."
   ]
  },
  {
   "cell_type": "code",
   "execution_count": 12,
   "id": "27ec457c",
   "metadata": {},
   "outputs": [
    {
     "data": {
      "image/png": "[encoded data removed]",
      "text/plain": [
       "<Figure size 432x288 with 1 Axes>"
      ]
     },
     "metadata": {
      "needs_background": "light"
     },
     "output_type": "display_data"
    }
   ],
   "source": [
    "from pylab import *\n",
    "\n",
    "a = 0\n",
    "b = 8\n",
    "m = (a+b)/2\n",
    "\n",
    "x = linspace(a, b, 101)\n",
    "\n",
    "l0 = (x-m)/(a-m)*(x-b)/(a-b)\n",
    "l1 = (x-a)/(m-a)*(x-b)/(m-b)\n",
    "l2 = (x-a)/(b-a)*(x-m)/(b-m)\n",
    "\n",
    "plot([a,m,b],zeros(3),\"s\") # position des valeurs 0\n",
    "plot([a,m,b],ones(3), \"o\")  # position des valeurs 1\n",
    "plot(x,l0, label=\"l0\")\n",
    "plot(x,l1, label=\"l1\")\n",
    "plot(x,l2, label=\"l2\")\n",
    "\n",
    "title(\"Polynomes de Lagrange\")\n",
    "xlim(-1,9)\n",
    "ylim(-1,2)\n",
    "text(a,-0.1,\"(a,0)\",ha=\"center\",va=\"top\")\n",
    "text(m,-0.1,\"(m,0)\",ha=\"center\",va=\"top\")\n",
    "text(b,-0.1,\"(b,0)\",ha=\"center\",va=\"top\")\n",
    "text(a,1.05,\"(a,1)\",ha=\"center\",va=\"bottom\")\n",
    "text(m,1.05,\"(m,1)\",ha=\"center\",va=\"bottom\")\n",
    "text(b,1.05,\"(b,1)\",ha=\"center\",va=\"bottom\")\n",
    "legend()\n",
    "grid()\n",
    "\n",
    "show()"
   ]
  },
  {
   "cell_type": "markdown",
   "id": "d2de9e99",
   "metadata": {},
   "source": [
    "Exemple d’interpolation de Lagrange avec un polynôme de degré 2:"
   ]
  },
  {
   "cell_type": "code",
   "execution_count": 13,
   "id": "eab591a2",
   "metadata": {},
   "outputs": [
    {
     "data": {
      "image/png": "[encoded data removed]",
      "text/plain": [
       "<Figure size 432x288 with 1 Axes>"
      ]
     },
     "metadata": {
      "needs_background": "light"
     },
     "output_type": "display_data"
    }
   ],
   "source": [
    "from pylab import *\n",
    "\n",
    "a = 0\n",
    "b = 8\n",
    "m = (a+b)/2\n",
    "# valeurs de la fonction en a, m, et b\n",
    "ya = 4\n",
    "ym = 8\n",
    "yb = -6\n",
    "\n",
    "x = linspace(a, b, 101)\n",
    "\n",
    "l0 = (x-m)/(a-m)*(x-b)/(a-b)\n",
    "l1 = (x-a)/(m-a)*(x-b)/(m-b)\n",
    "l2 = (x-a)/(b-a)*(x-m)/(b-m)\n",
    "P = ya*l0 + ym*l1 + yb*l2\n",
    "\n",
    "plot([a,m,b],zeros(3),\"s\") # position des valeurs 0\n",
    "plot([a,m,b],[ya,ym,yb], \"o\")  # position des valeurs de f\n",
    "plot(x,P)\n",
    "\n",
    "title(\"Interpolation de Lagrange\")\n",
    "xlim(-1,9)\n",
    "ylim(-8,10)\n",
    "text(a,-0.5,\"(a,0)\",ha=\"center\",va=\"top\")\n",
    "text(m,-0.5,\"(m,0)\",ha=\"center\",va=\"top\")\n",
    "text(b,-0.5,\"(b,0)\",ha=\"center\",va=\"top\")\n",
    "text(a,ya+0.05,\"(a,f(a))\",ha=\"right\",va=\"bottom\")\n",
    "text(m,ym+0.2,\"(m,f(m))\",ha=\"left\",va=\"bottom\")\n",
    "text(b,yb-0.4,\"(b,f(b))\",ha=\"left\",va=\"top\")\n",
    "grid()\n",
    "\n",
    "show()"
   ]
  },
  {
   "cell_type": "code",
   "execution_count": null,
   "id": "5d1fc08c",
   "metadata": {},
   "outputs": [],
   "source": []
  }
 ],
 "metadata": {
  "kernelspec": {
   "display_name": "Python 3 (ipykernel)",
   "language": "python",
   "name": "python3"
  },
  "language_info": {
   "codemirror_mode": {
    "name": "ipython",
    "version": 3
   },
   "file_extension": ".py",
   "mimetype": "text/x-python",
   "name": "python",
   "nbconvert_exporter": "python",
   "pygments_lexer": "ipython3",
   "version": "3.7.5"
  }
 },
 "nbformat": 4,
 "nbformat_minor": 5
}
